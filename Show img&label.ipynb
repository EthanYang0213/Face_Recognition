{
 "cells": [
  {
   "cell_type": "code",
   "execution_count": null,
   "metadata": {},
   "outputs": [],
   "source": [
    "# 顯示圖片/真實圖片/預測結果\n",
    "''''''\n",
    "images：圖片\n",
    "labels：要對應的標籤\n",
    "prediction(optional)：預測結果的標籤，若沒有則可填[]\n",
    "idx：開始顯示資料的index\n",
    "num_image：要顯示的圖片數量\n",
    "''''''\n",
    "\n",
    "import matplolib.pyplot as plt\n",
    "def plot_images_labels_prediction(images, labels, prediction, idx, num_image):\n",
    "    \n",
    "    fig = plt.gcf()\n",
    "    fig.set_size_inches = (12, 14)\n",
    "    if num_image > 25: num = 25\n",
    "    \n",
    "    for i in range(0, num_image):\n",
    "        ax = plt.subplot(5, 5, 1+i)  # 可調整顯示的子圖數量 5*5=10個\n",
    "        ax.imshow(images[idx], cmap = 'binary')  # cmap為設定顯示的格式, binray為灰階\n",
    "        title = 'label=' + str(labels[idx])\n",
    "        if len(prediction) > 0:   # 如果有輸入prediction參數才會執行以下區塊\n",
    "            title += ', prediction=' + str(prediction[idx])\n",
    "            \n",
    "        ax.set_title(title, fontsize = 10)  # 設定子圖的標題title大小\n",
    "        ax.set_xticks([])  # 不顯示刻度\n",
    "        ax.set_yticks([])  # 不顯示刻度\n",
    "        idx += 1  #移動到下一張圖\n",
    "    plt.show()\n",
    "        "
   ]
  },
  {
   "cell_type": "code",
   "execution_count": null,
   "metadata": {},
   "outputs": [],
   "source": [
    "# 使用label_dict顯示圖片/真實圖片/預測結果\n",
    "''''''\n",
    "images：圖片\n",
    "labels：要對應的標籤\n",
    "prediction(optional)：預測結果的標籤，若沒有則可填[]\n",
    "idx：開始顯示資料的index\n",
    "num_image：要顯示的圖片數量\n",
    "''''''\n",
    "\n",
    "import matplolib.pyplot as plt\n",
    "def plot_images_labels_prediction(images, labels, prediction, idx, num_image):\n",
    "    \n",
    "    fig = plt.gcf()\n",
    "    fig.set_size_inches = (12, 14)\n",
    "    if num_image > 25: num = 25\n",
    "    \n",
    "    for i in range(0, num_image):\n",
    "        ax = plt.subplot(5, 5, 1+i)  # 可調整顯示的子圖數量 5*5=10個\n",
    "        ax.imshow(images[idx], cmap = 'binary')  # cmap為設定顯示的格式, binray為灰階\n",
    "        title =str(i) + ',' +label_dict[labels[i][0]]\n",
    "        if len(prediction) > 0:   # 如果有輸入prediction參數才會執行以下區塊\n",
    "            title += '=>' + label_dict[prediction[i]]\n",
    "            \n",
    "        ax.set_title(title, fontsize = 10)  # 設定子圖的標題title大小\n",
    "        ax.set_xticks([])  # 不顯示刻度\n",
    "        ax.set_yticks([])  # 不顯示刻度\n",
    "        idx += 1  #移動到下一張圖\n",
    "    plt.show()\n",
    "        "
   ]
  },
  {
   "cell_type": "code",
   "execution_count": null,
   "metadata": {},
   "outputs": [],
   "source": [
    "# 顯示預測結果的每個類別機率\n",
    "# y：真實值\n",
    "# prediction：預測結果\n",
    "# x_img：預測的影像\n",
    "# Predicted_Prob：預測機率\n",
    "# i：開始顯示的index\n",
    "\n",
    "\n",
    "def show_Predicted_Prob(y, prediction, x_img_test, Predicted_Prob, i):\n",
    "    print('label:', label_dict[y[i][0]],'predict', label_dict[prediction[i]])\n",
    "    plt.figure(figsize = (2, 2))\n",
    "    plt.imshow(np.reshape(x_img_test[i], (32, 32, 3)))\n",
    "    plt.show()\n",
    "    for j in range(10): # 10=類別數量\n",
    "        print(label_dict[j] + ' Probability:%1.9f'%(Predicted_Prob[i][j]))"
   ]
  }
 ],
 "metadata": {
  "kernelspec": {
   "display_name": "Python 3",
   "language": "python",
   "name": "python3"
  },
  "language_info": {
   "codemirror_mode": {
    "name": "ipython",
    "version": 3
   },
   "file_extension": ".py",
   "mimetype": "text/x-python",
   "name": "python",
   "nbconvert_exporter": "python",
   "pygments_lexer": "ipython3",
   "version": "3.7.3"
  }
 },
 "nbformat": 4,
 "nbformat_minor": 2
}
